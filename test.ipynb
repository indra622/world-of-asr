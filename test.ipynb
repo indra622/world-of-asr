{
 "cells": [
  {
   "cell_type": "code",
   "execution_count": 3,
   "metadata": {},
   "outputs": [],
   "source": [
    "from docker import client"
   ]
  },
  {
   "cell_type": "code",
   "execution_count": 4,
   "metadata": {},
   "outputs": [],
   "source": [
    "import docker"
   ]
  },
  {
   "cell_type": "code",
   "execution_count": 6,
   "metadata": {},
   "outputs": [
    {
     "data": {
      "text/plain": [
       "<Image: 'nvcr.io/nvidia/nemo:23.06'>"
      ]
     },
     "execution_count": 6,
     "metadata": {},
     "output_type": "execute_result"
    }
   ],
   "source": [
    "client = docker.from_env()\n",
    "\n",
    "#client.containers.run(\"ubuntu\", \"echo hello world\")\n",
    "client.images.pull(\"nvcr.io/nvidia/nemo:23.06\")"
   ]
  },
  {
   "cell_type": "code",
   "execution_count": 7,
   "metadata": {},
   "outputs": [
    {
     "data": {
      "text/plain": [
       "b'\\n=============\\n== PyTorch ==\\n=============\\n\\nNVIDIA Release 23.06 (build 63009835)\\nPyTorch Version 2.1.0a0+4136153\\n\\nContainer image Copyright (c) 2023, NVIDIA CORPORATION & AFFILIATES. All rights reserved.\\n\\nCopyright (c) 2014-2023 Facebook Inc.\\nCopyright (c) 2011-2014 Idiap Research Institute (Ronan Collobert)\\nCopyright (c) 2012-2014 Deepmind Technologies    (Koray Kavukcuoglu)\\nCopyright (c) 2011-2012 NEC Laboratories America (Koray Kavukcuoglu)\\nCopyright (c) 2011-2013 NYU                      (Clement Farabet)\\nCopyright (c) 2006-2010 NEC Laboratories America (Ronan Collobert, Leon Bottou, Iain Melvin, Jason Weston)\\nCopyright (c) 2006      Idiap Research Institute (Samy Bengio)\\nCopyright (c) 2001-2004 Idiap Research Institute (Ronan Collobert, Samy Bengio, Johnny Mariethoz)\\nCopyright (c) 2015      Google Inc.\\nCopyright (c) 2015      Yangqing Jia\\nCopyright (c) 2013-2016 The Caffe contributors\\nAll rights reserved.\\n\\nVarious files include modifications (c) NVIDIA CORPORATION & AFFILIATES.  All rights reserved.\\n\\nThis container image and its contents are governed by the NVIDIA Deep Learning Container License.\\nBy pulling and using the container, you accept the terms and conditions of this license:\\nhttps://developer.nvidia.com/ngc/nvidia-deep-learning-container-license\\n\\nWARNING: The NVIDIA Driver was not detected.  GPU functionality will not be available.\\n   Use the NVIDIA Container Toolkit to start this container with GPU support; see\\n   https://docs.nvidia.com/datacenter/cloud-native/ .\\n\\nNOTE: The SHMEM allocation limit is set to the default of 64MB.  This may be\\n   insufficient for PyTorch.  NVIDIA recommends the use of the following flags:\\n   docker run --gpus all --ipc=host --ulimit memlock=-1 --ulimit stack=67108864 ...\\n\\nhello world\\n'"
      ]
     },
     "execution_count": 7,
     "metadata": {},
     "output_type": "execute_result"
    }
   ],
   "source": [
    "client.containers.run(\"nvcr.io/nvidia/nemo:23.06\", \"echo hello world\")"
   ]
  },
  {
   "cell_type": "code",
   "execution_count": null,
   "metadata": {},
   "outputs": [],
   "source": [
    "import nemo.collections.asr as nemo_asr\n",
    "asr_model = nemo_asr.models.EncDecRNNTBPEModel.from_pretrained(model_name=\"nvidia/stt_en_fastconformer_transducer_xlarge\")"
   ]
  },
  {
   "cell_type": "code",
   "execution_count": null,
   "metadata": {},
   "outputs": [],
   "source": [
    "asr_model.transcribe(['2086-149220-0033.wav'])\n",
    "\n"
   ]
  }
 ],
 "metadata": {
  "kernelspec": {
   "display_name": "whisper",
   "language": "python",
   "name": "python3"
  },
  "language_info": {
   "codemirror_mode": {
    "name": "ipython",
    "version": 3
   },
   "file_extension": ".py",
   "mimetype": "text/x-python",
   "name": "python",
   "nbconvert_exporter": "python",
   "pygments_lexer": "ipython3",
   "version": "3.11.5"
  },
  "orig_nbformat": 4
 },
 "nbformat": 4,
 "nbformat_minor": 2
}
